{
 "cells": [
  {
   "cell_type": "markdown",
   "metadata": {
    "id": "bzenlX5ldeCX"
   },
   "source": [
    "<h1>Big Data & Data Analytics Project on Job Change Prediction using Python</h1>\n",
    "<p>By Prachi Goel(035041), Prachi Dua(035040), Aakriti Pathania(035001), </p>\n",
    "<h2>Introduction</h2>\n",
    "<p>In this project we tried to explore and visualize the job change prediction dataset using python to test and train our machine leanring model.</p>\n",
    "<h2>Objectives of the Project:</h2>\n",
    "<p>1. Exploration & Visualizion the data <br>2. To examine if data has any structure<br>3. To do the Feature Engineering of data<br>4. To create the Data Pipelining<br>5. Perform the Hyperparameter tuning</p>\n",
    "<h2>About Dataset</h2>\n",
    "<p>An Ed-Tech company wants to hire data scientists among people who have successfully passed some courses and then signed up for training. The company wants to know which of the people are looking for a job change and will prefer working with them after completion of training because it helps to reduce the cost and time for categorization of candidates.\n",
    "\n",
    "Information related to demographics, education, the experience is in hands from candidates sign up and enrollment.</p>\n",
    "\n",
    "\n",
    "# This dataset is composed by the following variables:\n",
    "\n",
    "**enrollee_id:** Unique ID for the candidate\n",
    "\n",
    "**city:** City code\n",
    "\n",
    "**city_ development _index:** Development index of the city (scaled)\n",
    "\n",
    "**gender:** Gender of the candidate\n",
    "\n",
    "**relevent_experience:** Relevant experience of the candidate\n",
    "\n",
    "**enrolled_university:** Type of University course enrolled if any\n",
    "\n",
    "**education_level:** Education level of candidate\n",
    "\n",
    "**major_discipline:** Education major discipline of the candidate\n",
    "\n",
    "**experience:** Candidate total experience in years\n",
    "\n",
    "**company_size:** No of employees in current employer's company\n",
    "\n",
    "**company_type:** Type of current employer\n",
    "\n",
    "**lastnewjob:** Difference in years between previous job and current job\n",
    "\n",
    "**training_hours:** training hours completed\n",
    "\n",
    "**target:** 0 – Not looking for a job change, 1 – Looking for a job change"
   ]
  },
  {
   "cell_type": "markdown",
   "metadata": {
    "id": "BJTwb978cvSm"
   },
   "source": [
    "# Notebook outline:\n",
    "\n",
    "1. Data Analysis and Visualization\n",
    "    - Dataset Information\n",
    "    - Visualizations\n",
    "2. Data Preprocessing\n",
    "    - Data Encoding\n",
    "3. Models Training and Evaluation\n",
    "    - Splitting data into train and test set\n",
    "    - Training Base Models\n",
    "    - Evaluation of Base Models\n",
    "    - Hyperparameter Tuning\n",
    "    - Evaluation of Tuned Models"
   ]
  },
  {
   "cell_type": "code",
   "execution_count": 46,
   "metadata": {
    "id": "uWD3Z_53ctl-"
   },
   "outputs": [
    {
     "name": "stdout",
     "output_type": "stream",
     "text": [
      "Collecting scikit-optimize\n",
      "  Downloading scikit_optimize-0.9.0-py2.py3-none-any.whl (100 kB)\n",
      "     -------------------------------------- 100.3/100.3 kB 5.6 MB/s eta 0:00:00\n",
      "Collecting pyaml>=16.9\n",
      "  Downloading pyaml-23.7.0-py3-none-any.whl (17 kB)\n",
      "Requirement already satisfied: scipy>=0.19.1 in c:\\users\\user\\anaconda3\\lib\\site-packages (from scikit-optimize) (1.10.0)\n",
      "Requirement already satisfied: joblib>=0.11 in c:\\users\\user\\anaconda3\\lib\\site-packages (from scikit-optimize) (1.1.1)\n",
      "Requirement already satisfied: scikit-learn>=0.20.0 in c:\\users\\user\\anaconda3\\lib\\site-packages (from scikit-optimize) (1.0.2)\n",
      "Requirement already satisfied: numpy>=1.13.3 in c:\\users\\user\\anaconda3\\lib\\site-packages (from scikit-optimize) (1.23.5)\n",
      "Requirement already satisfied: PyYAML in c:\\users\\user\\anaconda3\\lib\\site-packages (from pyaml>=16.9->scikit-optimize) (6.0)\n",
      "Requirement already satisfied: threadpoolctl>=2.0.0 in c:\\users\\user\\anaconda3\\lib\\site-packages (from scikit-learn>=0.20.0->scikit-optimize) (2.2.0)\n",
      "Installing collected packages: pyaml, scikit-optimize\n",
      "Successfully installed pyaml-23.7.0 scikit-optimize-0.9.0\n"
     ]
    },
    {
     "name": "stderr",
     "output_type": "stream",
     "text": [
      "ERROR: Invalid requirement: \"'scikit-optimize[plots]'\"\n"
     ]
    }
   ],
   "source": [
    "import matplotlib.pyplot as plt\n",
    "import seaborn as sns\n",
    "import pandas as pd\n",
    "import numpy as np\n",
    "import math\n",
    "# 0.0\n",
    "# For skopt routines\n",
    "! pip install scikit-optimize\n",
    "\n",
    "# 0.1 For plotting skopt results\n",
    "! pip install 'scikit-optimize[plots]'\n",
    "from sklearn.model_selection import train_test_split\n",
    "from sklearn.preprocessing import StandardScaler, LabelEncoder, MinMaxScaler, OrdinalEncoder\n",
    "from sklearn.ensemble import RandomForestRegressor\n",
    "from sklearn.metrics import mean_squared_error\n",
    "from sklearn.impute import SimpleImputer\n",
    "from sklearn.model_selection import train_test_split\n",
    "from sklearn.ensemble import  RandomForestClassifier\n",
    "from sklearn.metrics import accuracy_score\n",
    "from sklearn.impute import SimpleImputer\n",
    "from sklearn.pipeline import make_pipeline\n",
    "from sklearn.metrics import mean_absolute_error"
   ]
  },
  {
   "cell_type": "code",
   "execution_count": 47,
   "metadata": {},
   "outputs": [
    {
     "ename": "ModuleNotFoundError",
     "evalue": "No module named 'xgboost'",
     "output_type": "error",
     "traceback": [
      "\u001b[1;31m---------------------------------------------------------------------------\u001b[0m",
      "\u001b[1;31mModuleNotFoundError\u001b[0m                       Traceback (most recent call last)",
      "\u001b[1;32m~\\AppData\\Local\\Temp\\ipykernel_13876\\3631360524.py\u001b[0m in \u001b[0;36m<module>\u001b[1;34m\u001b[0m\n\u001b[0;32m     40\u001b[0m \u001b[1;31m# https://stackoverflow.com/a/46947191\u001b[0m\u001b[1;33m\u001b[0m\u001b[1;33m\u001b[0m\u001b[0m\n\u001b[0;32m     41\u001b[0m \u001b[1;31m# Install as: conda install -c anaconda py-xgboost\u001b[0m\u001b[1;33m\u001b[0m\u001b[1;33m\u001b[0m\u001b[0m\n\u001b[1;32m---> 42\u001b[1;33m \u001b[1;32mfrom\u001b[0m \u001b[0mxgboost\u001b[0m\u001b[1;33m.\u001b[0m\u001b[0msklearn\u001b[0m \u001b[1;32mimport\u001b[0m \u001b[0mXGBClassifier\u001b[0m\u001b[1;33m\u001b[0m\u001b[1;33m\u001b[0m\u001b[0m\n\u001b[0m",
      "\u001b[1;31mModuleNotFoundError\u001b[0m: No module named 'xgboost'"
     ]
    }
   ],
   "source": [
    "# 1.1 Data manipulation and plotting modules\n",
    "import numpy as np\n",
    "import pandas as pd\n",
    "\n",
    "\n",
    "# 1.2 Data pre-processing\n",
    "#     z = (x-mean)/stdev\n",
    "from sklearn.preprocessing import StandardScaler as ss\n",
    "\n",
    "# 1.3 Dimensionality reduction and noise removal\n",
    "from sklearn.decomposition import PCA\n",
    "\n",
    "# 1.4 Data splitting and model parameter search\n",
    "from sklearn.model_selection import train_test_split\n",
    "from sklearn.model_selection import StratifiedKFold\n",
    "\n",
    "# 1.5 Model pipelining\n",
    "from sklearn.pipeline import Pipeline\n",
    "from sklearn.pipeline import make_pipeline\n",
    "\n",
    "# 1.6 Hyperparameter optimization\n",
    "from sklearn.model_selection import GridSearchCV\n",
    "from sklearn.model_selection import RandomizedSearchCV\n",
    "\n",
    "# 1.7.1\n",
    "#     pip install scikit-optimize\n",
    "#     pip install 'scikit-optimize[plots]'\n",
    "#     Refer: https://github.com/scikit-optimize/scikit-optimize\n",
    "#     conda install -c conda-forge scikit-optimize\n",
    "from skopt import BayesSearchCV\n",
    "from skopt.space import Real, Categorical, Integer\n",
    "\n",
    "# 1.8 Modeling modules\n",
    "#     Call sklearn wrapper of xgboost\n",
    "# \"\"\"Scikit-Learn Wrapper interface for XGBoost.\"\"\"\n",
    "#  \"\"\"Implementation of the Scikit-Learn API for XGBoost.\n",
    "# https://xgboost.readthedocs.io/en/latest/python/python_api.html#module-xgboost.sklearn\n",
    "# Stackoverflow:\n",
    "# https://stackoverflow.com/a/34696477\n",
    "# https://stackoverflow.com/a/46947191\n",
    "# Install as: conda install -c anaconda py-xgboost\n",
    "from xgboost.sklearn import XGBClassifier"
   ]
  },
  {
   "cell_type": "code",
   "execution_count": 50,
   "metadata": {},
   "outputs": [],
   "source": [
    "# 1.9 Model evaluation metrics\n",
    "from sklearn.metrics import accuracy_score, f1_score\n",
    "from sklearn.metrics import plot_roc_curve\n",
    "from sklearn.metrics import confusion_matrix\n",
    "\n",
    "# 1.10\n",
    "import matplotlib.pyplot as plt\n",
    "import seaborn as sns\n",
    "\n",
    "\n",
    "# 1.11 Permutation feature importance\n",
    "from sklearn.inspection import permutation_importance"
   ]
  },
  {
   "cell_type": "code",
   "execution_count": 2,
   "metadata": {
    "_cell_guid": "b1076dfc-b9ad-4769-8c92-a6c4dae69d19",
    "_uuid": "8f2839f25d086af736a60e9eeb907d3b93b6e0e5",
    "execution": {
     "iopub.execute_input": "2021-06-02T17:36:35.662173Z",
     "iopub.status.busy": "2021-06-02T17:36:35.661497Z",
     "iopub.status.idle": "2021-06-02T17:36:35.675410Z",
     "shell.execute_reply": "2021-06-02T17:36:35.674868Z",
     "shell.execute_reply.started": "2021-06-02T14:48:09.558586Z"
    },
    "id": "cX2hUuLiakVZ",
    "papermill": {
     "duration": 0.064439,
     "end_time": "2021-06-02T17:36:35.675513",
     "exception": false,
     "start_time": "2021-06-02T17:36:35.611074",
     "status": "completed"
    },
    "tags": []
   },
   "outputs": [],
   "source": [
    "# This Python 3 environment comes with many helpful analytics libraries installed\n",
    "# It is defined by the kaggle/python Docker image: https://github.com/kaggle/docker-python\n",
    "# For example, here's several helpful packages to load\n",
    "\n",
    "import numpy as np # linear algebra\n",
    "import pandas as pd # data processing, CSV file I/O (e.g. pd.read_csv)\n",
    "\n",
    "# Input data files are available in the read-only \"../input/\" directory\n",
    "# For example, running this (by clicking run or pressing Shift+Enter) will list all files under the input directory\n",
    "\n",
    "SEED = 0\n",
    "\n",
    "import os\n",
    "for dirname, _, filenames in os.walk('/kaggle/input'):\n",
    "    for filename in filenames:\n",
    "        print(os.path.join(dirname, filename))"
   ]
  },
  {
   "cell_type": "markdown",
   "metadata": {
    "id": "bQ_8yJ59akVb",
    "papermill": {
     "duration": 0.045143,
     "end_time": "2021-06-02T17:36:35.766099",
     "exception": false,
     "start_time": "2021-06-02T17:36:35.720956",
     "status": "completed"
    },
    "tags": []
   },
   "source": [
    "Some basic libraries ..."
   ]
  },
  {
   "cell_type": "code",
   "execution_count": 3,
   "metadata": {
    "execution": {
     "iopub.execute_input": "2021-06-02T17:36:35.861574Z",
     "iopub.status.busy": "2021-06-02T17:36:35.860776Z",
     "iopub.status.idle": "2021-06-02T17:36:36.842363Z",
     "shell.execute_reply": "2021-06-02T17:36:36.841704Z",
     "shell.execute_reply.started": "2021-06-02T14:48:09.583853Z"
    },
    "id": "5UCUSLnoakVb",
    "papermill": {
     "duration": 1.031217,
     "end_time": "2021-06-02T17:36:36.842504",
     "exception": false,
     "start_time": "2021-06-02T17:36:35.811287",
     "status": "completed"
    },
    "tags": []
   },
   "outputs": [],
   "source": [
    "import matplotlib.pyplot as plt\n",
    "import seaborn as sns\n",
    "import warnings\n",
    "warnings.filterwarnings(\"ignore\")"
   ]
  },
  {
   "cell_type": "raw",
   "metadata": {
    "id": "XPUxYBkiakVc",
    "papermill": {
     "duration": 0.045868,
     "end_time": "2021-06-02T17:36:36.933958",
     "exception": false,
     "start_time": "2021-06-02T17:36:36.888090",
     "status": "completed"
    },
    "tags": []
   },
   "source": [
    "# LOADING THE DATASET"
   ]
  },
  {
   "cell_type": "code",
   "execution_count": 6,
   "metadata": {
    "_cell_guid": "79c7e3d0-c299-4dcb-8224-4455121ee9b0",
    "_uuid": "d629ff2d2480ee46fbb7e2d37f6b5fab8052498a",
    "execution": {
     "iopub.execute_input": "2021-06-02T17:36:37.032928Z",
     "iopub.status.busy": "2021-06-02T17:36:37.032256Z",
     "iopub.status.idle": "2021-06-02T17:36:37.137981Z",
     "shell.execute_reply": "2021-06-02T17:36:37.137234Z",
     "shell.execute_reply.started": "2021-06-02T14:48:10.782372Z"
    },
    "id": "cfDUAQsUakVc",
    "papermill": {
     "duration": 0.1583,
     "end_time": "2021-06-02T17:36:37.138100",
     "exception": false,
     "start_time": "2021-06-02T17:36:36.979800",
     "status": "completed"
    },
    "tags": []
   },
   "outputs": [],
   "source": [
    "data = pd.read_csv(\"C:\\\\Users\\\\user\\\\Downloads\\\\archive\\\\aug_train.csv\")\n",
    "test = pd.read_csv(\"C:\\\\Users\\\\user\\\\Downloads\\\\archive\\\\aug_test.csv\")"
   ]
  },
  {
   "cell_type": "markdown",
   "metadata": {
    "id": "R6KJhX5YakVd",
    "papermill": {
     "duration": 0.044929,
     "end_time": "2021-06-02T17:36:37.228499",
     "exception": false,
     "start_time": "2021-06-02T17:36:37.183570",
     "status": "completed"
    },
    "tags": []
   },
   "source": [
    "# 1. Data Analysis and Visualization"
   ]
  },
  {
   "cell_type": "code",
   "execution_count": 58,
   "metadata": {
    "colab": {
     "base_uri": "https://localhost:8080/",
     "height": 305
    },
    "execution": {
     "iopub.execute_input": "2021-06-02T17:36:37.323055Z",
     "iopub.status.busy": "2021-06-02T17:36:37.322402Z",
     "iopub.status.idle": "2021-06-02T17:36:37.352009Z",
     "shell.execute_reply": "2021-06-02T17:36:37.352668Z",
     "shell.execute_reply.started": "2021-06-02T14:48:10.884562Z"
    },
    "id": "2zHWSCTSakVd",
    "outputId": "2299814a-694d-46ce-d201-f6bb7e553e00",
    "papermill": {
     "duration": 0.079285,
     "end_time": "2021-06-02T17:36:37.352831",
     "exception": false,
     "start_time": "2021-06-02T17:36:37.273546",
     "status": "completed"
    },
    "tags": []
   },
   "outputs": [
    {
     "name": "stdout",
     "output_type": "stream",
     "text": [
      "Job prediction dataset shape:   (19158, 14)\n"
     ]
    },
    {
     "data": {
      "text/html": [
       "<div>\n",
       "<style scoped>\n",
       "    .dataframe tbody tr th:only-of-type {\n",
       "        vertical-align: middle;\n",
       "    }\n",
       "\n",
       "    .dataframe tbody tr th {\n",
       "        vertical-align: top;\n",
       "    }\n",
       "\n",
       "    .dataframe thead th {\n",
       "        text-align: right;\n",
       "    }\n",
       "</style>\n",
       "<table border=\"1\" class=\"dataframe\">\n",
       "  <thead>\n",
       "    <tr style=\"text-align: right;\">\n",
       "      <th></th>\n",
       "      <th>enrollee_id</th>\n",
       "      <th>city</th>\n",
       "      <th>city_development_index</th>\n",
       "      <th>gender</th>\n",
       "      <th>relevent_experience</th>\n",
       "      <th>enrolled_university</th>\n",
       "      <th>education_level</th>\n",
       "      <th>major_discipline</th>\n",
       "      <th>experience</th>\n",
       "      <th>company_size</th>\n",
       "      <th>company_type</th>\n",
       "      <th>last_new_job</th>\n",
       "      <th>training_hours</th>\n",
       "      <th>target</th>\n",
       "    </tr>\n",
       "  </thead>\n",
       "  <tbody>\n",
       "    <tr>\n",
       "      <th>0</th>\n",
       "      <td>8949</td>\n",
       "      <td>city_103</td>\n",
       "      <td>0.920</td>\n",
       "      <td>Male</td>\n",
       "      <td>Has relevent experience</td>\n",
       "      <td>no_enrollment</td>\n",
       "      <td>Graduate</td>\n",
       "      <td>STEM</td>\n",
       "      <td>&gt;20</td>\n",
       "      <td>50-99</td>\n",
       "      <td>Pvt Ltd</td>\n",
       "      <td>1</td>\n",
       "      <td>36</td>\n",
       "      <td>1.0</td>\n",
       "    </tr>\n",
       "    <tr>\n",
       "      <th>1</th>\n",
       "      <td>29725</td>\n",
       "      <td>city_40</td>\n",
       "      <td>0.776</td>\n",
       "      <td>Male</td>\n",
       "      <td>No relevent experience</td>\n",
       "      <td>no_enrollment</td>\n",
       "      <td>Graduate</td>\n",
       "      <td>STEM</td>\n",
       "      <td>15</td>\n",
       "      <td>50-99</td>\n",
       "      <td>Pvt Ltd</td>\n",
       "      <td>&gt;4</td>\n",
       "      <td>47</td>\n",
       "      <td>0.0</td>\n",
       "    </tr>\n",
       "    <tr>\n",
       "      <th>2</th>\n",
       "      <td>11561</td>\n",
       "      <td>city_21</td>\n",
       "      <td>0.624</td>\n",
       "      <td>Male</td>\n",
       "      <td>No relevent experience</td>\n",
       "      <td>Full time course</td>\n",
       "      <td>Graduate</td>\n",
       "      <td>STEM</td>\n",
       "      <td>5</td>\n",
       "      <td>50-99</td>\n",
       "      <td>Pvt Ltd</td>\n",
       "      <td>never</td>\n",
       "      <td>83</td>\n",
       "      <td>0.0</td>\n",
       "    </tr>\n",
       "    <tr>\n",
       "      <th>3</th>\n",
       "      <td>33241</td>\n",
       "      <td>city_115</td>\n",
       "      <td>0.789</td>\n",
       "      <td>Male</td>\n",
       "      <td>No relevent experience</td>\n",
       "      <td>no_enrollment</td>\n",
       "      <td>Graduate</td>\n",
       "      <td>Business Degree</td>\n",
       "      <td>&lt;1</td>\n",
       "      <td>50-99</td>\n",
       "      <td>Pvt Ltd</td>\n",
       "      <td>never</td>\n",
       "      <td>52</td>\n",
       "      <td>1.0</td>\n",
       "    </tr>\n",
       "    <tr>\n",
       "      <th>4</th>\n",
       "      <td>666</td>\n",
       "      <td>city_162</td>\n",
       "      <td>0.767</td>\n",
       "      <td>Male</td>\n",
       "      <td>Has relevent experience</td>\n",
       "      <td>no_enrollment</td>\n",
       "      <td>Masters</td>\n",
       "      <td>STEM</td>\n",
       "      <td>&gt;20</td>\n",
       "      <td>50-99</td>\n",
       "      <td>Funded Startup</td>\n",
       "      <td>4</td>\n",
       "      <td>8</td>\n",
       "      <td>0.0</td>\n",
       "    </tr>\n",
       "  </tbody>\n",
       "</table>\n",
       "</div>"
      ],
      "text/plain": [
       "   enrollee_id      city  city_development_index gender  \\\n",
       "0         8949  city_103                   0.920   Male   \n",
       "1        29725   city_40                   0.776   Male   \n",
       "2        11561   city_21                   0.624   Male   \n",
       "3        33241  city_115                   0.789   Male   \n",
       "4          666  city_162                   0.767   Male   \n",
       "\n",
       "       relevent_experience enrolled_university education_level  \\\n",
       "0  Has relevent experience       no_enrollment        Graduate   \n",
       "1   No relevent experience       no_enrollment        Graduate   \n",
       "2   No relevent experience    Full time course        Graduate   \n",
       "3   No relevent experience       no_enrollment        Graduate   \n",
       "4  Has relevent experience       no_enrollment         Masters   \n",
       "\n",
       "  major_discipline experience company_size    company_type last_new_job  \\\n",
       "0             STEM        >20        50-99         Pvt Ltd            1   \n",
       "1             STEM         15        50-99         Pvt Ltd           >4   \n",
       "2             STEM          5        50-99         Pvt Ltd        never   \n",
       "3  Business Degree         <1        50-99         Pvt Ltd        never   \n",
       "4             STEM        >20        50-99  Funded Startup            4   \n",
       "\n",
       "   training_hours  target  \n",
       "0              36     1.0  \n",
       "1              47     0.0  \n",
       "2              83     0.0  \n",
       "3              52     1.0  \n",
       "4               8     0.0  "
      ]
     },
     "execution_count": 58,
     "metadata": {},
     "output_type": "execute_result"
    }
   ],
   "source": [
    "print('Job prediction dataset shape:  ', data.shape)\n",
    "data.head()\n"
   ]
  },
  {
   "cell_type": "code",
   "execution_count": 52,
   "metadata": {
    "colab": {
     "base_uri": "https://localhost:8080/",
     "height": 242
    },
    "execution": {
     "iopub.execute_input": "2021-06-02T17:36:37.447927Z",
     "iopub.status.busy": "2021-06-02T17:36:37.447305Z",
     "iopub.status.idle": "2021-06-02T17:36:37.462994Z",
     "shell.execute_reply": "2021-06-02T17:36:37.463518Z",
     "shell.execute_reply.started": "2021-06-02T14:48:10.924928Z"
    },
    "id": "78BC4hz5akVf",
    "outputId": "56a6a6f7-2149-41d6-a750-a2a09549b98c",
    "papermill": {
     "duration": 0.064682,
     "end_time": "2021-06-02T17:36:37.463683",
     "exception": false,
     "start_time": "2021-06-02T17:36:37.399001",
     "status": "completed"
    },
    "tags": []
   },
   "outputs": [
    {
     "data": {
      "text/html": [
       "<div>\n",
       "<style scoped>\n",
       "    .dataframe tbody tr th:only-of-type {\n",
       "        vertical-align: middle;\n",
       "    }\n",
       "\n",
       "    .dataframe tbody tr th {\n",
       "        vertical-align: top;\n",
       "    }\n",
       "\n",
       "    .dataframe thead th {\n",
       "        text-align: right;\n",
       "    }\n",
       "</style>\n",
       "<table border=\"1\" class=\"dataframe\">\n",
       "  <thead>\n",
       "    <tr style=\"text-align: right;\">\n",
       "      <th></th>\n",
       "      <th>enrollee_id</th>\n",
       "      <th>city</th>\n",
       "      <th>city_development_index</th>\n",
       "      <th>gender</th>\n",
       "      <th>relevent_experience</th>\n",
       "      <th>enrolled_university</th>\n",
       "      <th>education_level</th>\n",
       "      <th>major_discipline</th>\n",
       "      <th>experience</th>\n",
       "      <th>company_size</th>\n",
       "      <th>company_type</th>\n",
       "      <th>last_new_job</th>\n",
       "      <th>training_hours</th>\n",
       "    </tr>\n",
       "  </thead>\n",
       "  <tbody>\n",
       "    <tr>\n",
       "      <th>0</th>\n",
       "      <td>32403</td>\n",
       "      <td>city_41</td>\n",
       "      <td>0.827</td>\n",
       "      <td>Male</td>\n",
       "      <td>Has relevent experience</td>\n",
       "      <td>Full time course</td>\n",
       "      <td>Graduate</td>\n",
       "      <td>STEM</td>\n",
       "      <td>9</td>\n",
       "      <td>&lt;10</td>\n",
       "      <td>NaN</td>\n",
       "      <td>1</td>\n",
       "      <td>21</td>\n",
       "    </tr>\n",
       "    <tr>\n",
       "      <th>1</th>\n",
       "      <td>9858</td>\n",
       "      <td>city_103</td>\n",
       "      <td>0.920</td>\n",
       "      <td>Female</td>\n",
       "      <td>Has relevent experience</td>\n",
       "      <td>no_enrollment</td>\n",
       "      <td>Graduate</td>\n",
       "      <td>STEM</td>\n",
       "      <td>5</td>\n",
       "      <td>NaN</td>\n",
       "      <td>Pvt Ltd</td>\n",
       "      <td>1</td>\n",
       "      <td>98</td>\n",
       "    </tr>\n",
       "    <tr>\n",
       "      <th>2</th>\n",
       "      <td>31806</td>\n",
       "      <td>city_21</td>\n",
       "      <td>0.624</td>\n",
       "      <td>Male</td>\n",
       "      <td>No relevent experience</td>\n",
       "      <td>no_enrollment</td>\n",
       "      <td>High School</td>\n",
       "      <td>NaN</td>\n",
       "      <td>&lt;1</td>\n",
       "      <td>NaN</td>\n",
       "      <td>Pvt Ltd</td>\n",
       "      <td>never</td>\n",
       "      <td>15</td>\n",
       "    </tr>\n",
       "    <tr>\n",
       "      <th>3</th>\n",
       "      <td>27385</td>\n",
       "      <td>city_13</td>\n",
       "      <td>0.827</td>\n",
       "      <td>Male</td>\n",
       "      <td>Has relevent experience</td>\n",
       "      <td>no_enrollment</td>\n",
       "      <td>Masters</td>\n",
       "      <td>STEM</td>\n",
       "      <td>11</td>\n",
       "      <td>10/49</td>\n",
       "      <td>Pvt Ltd</td>\n",
       "      <td>1</td>\n",
       "      <td>39</td>\n",
       "    </tr>\n",
       "    <tr>\n",
       "      <th>4</th>\n",
       "      <td>27724</td>\n",
       "      <td>city_103</td>\n",
       "      <td>0.920</td>\n",
       "      <td>Male</td>\n",
       "      <td>Has relevent experience</td>\n",
       "      <td>no_enrollment</td>\n",
       "      <td>Graduate</td>\n",
       "      <td>STEM</td>\n",
       "      <td>&gt;20</td>\n",
       "      <td>10000+</td>\n",
       "      <td>Pvt Ltd</td>\n",
       "      <td>&gt;4</td>\n",
       "      <td>72</td>\n",
       "    </tr>\n",
       "  </tbody>\n",
       "</table>\n",
       "</div>"
      ],
      "text/plain": [
       "   enrollee_id      city  city_development_index  gender  \\\n",
       "0        32403   city_41                   0.827    Male   \n",
       "1         9858  city_103                   0.920  Female   \n",
       "2        31806   city_21                   0.624    Male   \n",
       "3        27385   city_13                   0.827    Male   \n",
       "4        27724  city_103                   0.920    Male   \n",
       "\n",
       "       relevent_experience enrolled_university education_level  \\\n",
       "0  Has relevent experience    Full time course        Graduate   \n",
       "1  Has relevent experience       no_enrollment        Graduate   \n",
       "2   No relevent experience       no_enrollment     High School   \n",
       "3  Has relevent experience       no_enrollment         Masters   \n",
       "4  Has relevent experience       no_enrollment        Graduate   \n",
       "\n",
       "  major_discipline experience company_size company_type last_new_job  \\\n",
       "0             STEM          9          <10          NaN            1   \n",
       "1             STEM          5          NaN      Pvt Ltd            1   \n",
       "2              NaN         <1          NaN      Pvt Ltd        never   \n",
       "3             STEM         11        10/49      Pvt Ltd            1   \n",
       "4             STEM        >20       10000+      Pvt Ltd           >4   \n",
       "\n",
       "   training_hours  \n",
       "0              21  \n",
       "1              98  \n",
       "2              15  \n",
       "3              39  \n",
       "4              72  "
      ]
     },
     "execution_count": 52,
     "metadata": {},
     "output_type": "execute_result"
    }
   ],
   "source": [
    "test.head()"
   ]
  },
  {
   "cell_type": "markdown",
   "metadata": {
    "id": "P0tgRpFVakVf",
    "papermill": {
     "duration": 0.045652,
     "end_time": "2021-06-02T17:36:37.555645",
     "exception": false,
     "start_time": "2021-06-02T17:36:37.509993",
     "status": "completed"
    },
    "tags": []
   },
   "source": [
    "## Dataset Variable information:\n",
    "\n",
    "+ enrollee_id : Unique ID for enrollee\n",
    "+ city: City code\n",
    "+ citydevelopmentindex: Developement index of the city (scaled)\n",
    "+ gender: Gender of enrolee\n",
    "+ relevent_experience: Relevent experience of enrolee\n",
    "+ enrolled_university: Type of University course enrolled if any\n",
    "+ education_level: Education level of enrolee\n",
    "+ major_discipline :Education major discipline of enrolee\n",
    "+ experience: Enrolee total experience in years\n",
    "+ company_size: No of employees in current employer's company\n",
    "+ company_type : Type of current employer\n",
    "+ lastnewjob: Difference in years between previous job and current job\n",
    "+ training_hours: training hours completed\n",
    "+ target: 0 – Not looking for job change, 1 – Looking for a job change"
   ]
  },
  {
   "cell_type": "markdown",
   "metadata": {
    "id": "Qmb4_4BBakVg",
    "papermill": {
     "duration": 0.045539,
     "end_time": "2021-06-02T17:36:37.647219",
     "exception": false,
     "start_time": "2021-06-02T17:36:37.601680",
     "status": "completed"
    },
    "tags": []
   },
   "source": [
    "checking the type of the data types"
   ]
  },
  {
   "cell_type": "code",
   "execution_count": 53,
   "metadata": {
    "colab": {
     "base_uri": "https://localhost:8080/"
    },
    "execution": {
     "iopub.execute_input": "2021-06-02T17:36:37.742603Z",
     "iopub.status.busy": "2021-06-02T17:36:37.741987Z",
     "iopub.status.idle": "2021-06-02T17:36:37.748507Z",
     "shell.execute_reply": "2021-06-02T17:36:37.749054Z",
     "shell.execute_reply.started": "2021-06-02T14:48:10.952341Z"
    },
    "id": "1OSc6l8BakVg",
    "outputId": "6deb74c4-1789-4a17-df94-0354f6fcbf6e",
    "papermill": {
     "duration": 0.05591,
     "end_time": "2021-06-02T17:36:37.749187",
     "exception": false,
     "start_time": "2021-06-02T17:36:37.693277",
     "status": "completed"
    },
    "tags": []
   },
   "outputs": [
    {
     "data": {
      "text/plain": [
       "enrollee_id                 int64\n",
       "city                       object\n",
       "city_development_index    float64\n",
       "gender                     object\n",
       "relevent_experience        object\n",
       "enrolled_university        object\n",
       "education_level            object\n",
       "major_discipline           object\n",
       "experience                 object\n",
       "company_size               object\n",
       "company_type               object\n",
       "last_new_job               object\n",
       "training_hours              int64\n",
       "target                    float64\n",
       "dtype: object"
      ]
     },
     "execution_count": 53,
     "metadata": {},
     "output_type": "execute_result"
    }
   ],
   "source": [
    "data.dtypes"
   ]
  },
  {
   "cell_type": "code",
   "execution_count": 33,
   "metadata": {},
   "outputs": [
    {
     "data": {
      "text/html": [
       "<div>\n",
       "<style scoped>\n",
       "    .dataframe tbody tr th:only-of-type {\n",
       "        vertical-align: middle;\n",
       "    }\n",
       "\n",
       "    .dataframe tbody tr th {\n",
       "        vertical-align: top;\n",
       "    }\n",
       "\n",
       "    .dataframe thead th {\n",
       "        text-align: right;\n",
       "    }\n",
       "</style>\n",
       "<table border=\"1\" class=\"dataframe\">\n",
       "  <thead>\n",
       "    <tr style=\"text-align: right;\">\n",
       "      <th></th>\n",
       "      <th>count</th>\n",
       "      <th>unique</th>\n",
       "      <th>top</th>\n",
       "      <th>freq</th>\n",
       "    </tr>\n",
       "  </thead>\n",
       "  <tbody>\n",
       "    <tr>\n",
       "      <th>city</th>\n",
       "      <td>19158</td>\n",
       "      <td>123</td>\n",
       "      <td>city_103</td>\n",
       "      <td>4355</td>\n",
       "    </tr>\n",
       "    <tr>\n",
       "      <th>gender</th>\n",
       "      <td>14650</td>\n",
       "      <td>3</td>\n",
       "      <td>Male</td>\n",
       "      <td>13221</td>\n",
       "    </tr>\n",
       "    <tr>\n",
       "      <th>relevent_experience</th>\n",
       "      <td>19158</td>\n",
       "      <td>2</td>\n",
       "      <td>Has relevent experience</td>\n",
       "      <td>13792</td>\n",
       "    </tr>\n",
       "    <tr>\n",
       "      <th>enrolled_university</th>\n",
       "      <td>18772</td>\n",
       "      <td>3</td>\n",
       "      <td>no_enrollment</td>\n",
       "      <td>13817</td>\n",
       "    </tr>\n",
       "    <tr>\n",
       "      <th>education_level</th>\n",
       "      <td>18698</td>\n",
       "      <td>5</td>\n",
       "      <td>Graduate</td>\n",
       "      <td>11598</td>\n",
       "    </tr>\n",
       "    <tr>\n",
       "      <th>major_discipline</th>\n",
       "      <td>16345</td>\n",
       "      <td>6</td>\n",
       "      <td>STEM</td>\n",
       "      <td>14492</td>\n",
       "    </tr>\n",
       "    <tr>\n",
       "      <th>experience</th>\n",
       "      <td>19093</td>\n",
       "      <td>22</td>\n",
       "      <td>&gt;20</td>\n",
       "      <td>3286</td>\n",
       "    </tr>\n",
       "    <tr>\n",
       "      <th>company_size</th>\n",
       "      <td>13220</td>\n",
       "      <td>8</td>\n",
       "      <td>50-99</td>\n",
       "      <td>3083</td>\n",
       "    </tr>\n",
       "    <tr>\n",
       "      <th>company_type</th>\n",
       "      <td>13018</td>\n",
       "      <td>6</td>\n",
       "      <td>Pvt Ltd</td>\n",
       "      <td>9817</td>\n",
       "    </tr>\n",
       "    <tr>\n",
       "      <th>last_new_job</th>\n",
       "      <td>18735</td>\n",
       "      <td>6</td>\n",
       "      <td>1</td>\n",
       "      <td>8040</td>\n",
       "    </tr>\n",
       "  </tbody>\n",
       "</table>\n",
       "</div>"
      ],
      "text/plain": [
       "                     count unique                      top   freq\n",
       "city                 19158    123                 city_103   4355\n",
       "gender               14650      3                     Male  13221\n",
       "relevent_experience  19158      2  Has relevent experience  13792\n",
       "enrolled_university  18772      3            no_enrollment  13817\n",
       "education_level      18698      5                 Graduate  11598\n",
       "major_discipline     16345      6                     STEM  14492\n",
       "experience           19093     22                      >20   3286\n",
       "company_size         13220      8                    50-99   3083\n",
       "company_type         13018      6                  Pvt Ltd   9817\n",
       "last_new_job         18735      6                        1   8040"
      ]
     },
     "execution_count": 33,
     "metadata": {},
     "output_type": "execute_result"
    }
   ],
   "source": [
    "data.describe(include = 'object').T"
   ]
  },
  {
   "cell_type": "markdown",
   "metadata": {
    "id": "63xJihuLakVh",
    "papermill": {
     "duration": 0.046033,
     "end_time": "2021-06-02T17:36:37.842618",
     "exception": false,
     "start_time": "2021-06-02T17:36:37.796585",
     "status": "completed"
    },
    "tags": []
   },
   "source": [
    "**But, \"Categorical variables\"**\n",
    "\n",
    "We need to deal with categorical variables so columns which have values different than numbers. \n",
    "\n",
    "A simple way of selecting all categorical columns is by checking their type.\n",
    "\n",
    "Thus, In the database, only 4 columns are of numerical-data, and up to 10 columns are Categorical variables type."
   ]
  },
  {
   "cell_type": "markdown",
   "metadata": {},
   "source": [
    "#### Finding the missing values"
   ]
  },
  {
   "cell_type": "code",
   "execution_count": 10,
   "metadata": {
    "colab": {
     "base_uri": "https://localhost:8080/"
    },
    "execution": {
     "iopub.execute_input": "2021-06-02T17:36:37.939340Z",
     "iopub.status.busy": "2021-06-02T17:36:37.938723Z",
     "iopub.status.idle": "2021-06-02T17:36:37.962721Z",
     "shell.execute_reply": "2021-06-02T17:36:37.963204Z",
     "shell.execute_reply.started": "2021-06-02T14:48:10.968964Z"
    },
    "id": "DOEoY0jfakVh",
    "outputId": "b305761c-b324-4bd6-9f41-90e455b0aa4c",
    "papermill": {
     "duration": 0.073989,
     "end_time": "2021-06-02T17:36:37.963337",
     "exception": false,
     "start_time": "2021-06-02T17:36:37.889348",
     "status": "completed"
    },
    "tags": []
   },
   "outputs": [
    {
     "data": {
      "text/plain": [
       "enrollee_id                  0\n",
       "city                         0\n",
       "city_development_index       0\n",
       "gender                    4508\n",
       "relevent_experience          0\n",
       "enrolled_university        386\n",
       "education_level            460\n",
       "major_discipline          2813\n",
       "experience                  65\n",
       "company_size              5938\n",
       "company_type              6140\n",
       "last_new_job               423\n",
       "training_hours               0\n",
       "target                       0\n",
       "dtype: int64"
      ]
     },
     "execution_count": 10,
     "metadata": {},
     "output_type": "execute_result"
    }
   ],
   "source": [
    "data.isnull().sum()"
   ]
  },
  {
   "cell_type": "code",
   "execution_count": 55,
   "metadata": {},
   "outputs": [],
   "source": [
    "for column in ['gender','enrolled_university','education_level','major_discipline', 'experience', 'company_size', 'company_type','last_new_job']:\n",
    "    data[column].fillna(data[column].mode()[0], inplace=True)"
   ]
  },
  {
   "cell_type": "code",
   "execution_count": 56,
   "metadata": {},
   "outputs": [
    {
     "data": {
      "text/plain": [
       "enrollee_id               0\n",
       "city                      0\n",
       "city_development_index    0\n",
       "gender                    0\n",
       "relevent_experience       0\n",
       "enrolled_university       0\n",
       "education_level           0\n",
       "major_discipline          0\n",
       "experience                0\n",
       "company_size              0\n",
       "company_type              0\n",
       "last_new_job              0\n",
       "training_hours            0\n",
       "target                    0\n",
       "dtype: int64"
      ]
     },
     "execution_count": 56,
     "metadata": {},
     "output_type": "execute_result"
    }
   ],
   "source": [
    "data.isnull().sum()"
   ]
  },
  {
   "cell_type": "code",
   "execution_count": 77,
   "metadata": {},
   "outputs": [
    {
     "data": {
      "text/html": [
       "<div>\n",
       "<style scoped>\n",
       "    .dataframe tbody tr th:only-of-type {\n",
       "        vertical-align: middle;\n",
       "    }\n",
       "\n",
       "    .dataframe tbody tr th {\n",
       "        vertical-align: top;\n",
       "    }\n",
       "\n",
       "    .dataframe thead th {\n",
       "        text-align: right;\n",
       "    }\n",
       "</style>\n",
       "<table border=\"1\" class=\"dataframe\">\n",
       "  <thead>\n",
       "    <tr style=\"text-align: right;\">\n",
       "      <th></th>\n",
       "      <th>enrollee_id</th>\n",
       "      <th>city</th>\n",
       "      <th>city_development_index</th>\n",
       "      <th>relevent_experience</th>\n",
       "      <th>enrolled_university</th>\n",
       "      <th>education_level</th>\n",
       "      <th>experience</th>\n",
       "      <th>company_size</th>\n",
       "      <th>company_type</th>\n",
       "      <th>last_new_job</th>\n",
       "      <th>training_hours</th>\n",
       "      <th>target</th>\n",
       "    </tr>\n",
       "  </thead>\n",
       "  <tbody>\n",
       "    <tr>\n",
       "      <th>0</th>\n",
       "      <td>8949</td>\n",
       "      <td>city_103</td>\n",
       "      <td>0.920</td>\n",
       "      <td>Has relevent experience</td>\n",
       "      <td>no_enrollment</td>\n",
       "      <td>Graduate</td>\n",
       "      <td>&gt;20</td>\n",
       "      <td>50-99</td>\n",
       "      <td>Pvt Ltd</td>\n",
       "      <td>1</td>\n",
       "      <td>36</td>\n",
       "      <td>1.0</td>\n",
       "    </tr>\n",
       "    <tr>\n",
       "      <th>1</th>\n",
       "      <td>29725</td>\n",
       "      <td>city_40</td>\n",
       "      <td>0.776</td>\n",
       "      <td>No relevent experience</td>\n",
       "      <td>no_enrollment</td>\n",
       "      <td>Graduate</td>\n",
       "      <td>15</td>\n",
       "      <td>50-99</td>\n",
       "      <td>Pvt Ltd</td>\n",
       "      <td>&gt;4</td>\n",
       "      <td>47</td>\n",
       "      <td>0.0</td>\n",
       "    </tr>\n",
       "    <tr>\n",
       "      <th>2</th>\n",
       "      <td>11561</td>\n",
       "      <td>city_21</td>\n",
       "      <td>0.624</td>\n",
       "      <td>No relevent experience</td>\n",
       "      <td>Full time course</td>\n",
       "      <td>Graduate</td>\n",
       "      <td>5</td>\n",
       "      <td>50-99</td>\n",
       "      <td>Pvt Ltd</td>\n",
       "      <td>never</td>\n",
       "      <td>83</td>\n",
       "      <td>0.0</td>\n",
       "    </tr>\n",
       "    <tr>\n",
       "      <th>3</th>\n",
       "      <td>33241</td>\n",
       "      <td>city_115</td>\n",
       "      <td>0.789</td>\n",
       "      <td>No relevent experience</td>\n",
       "      <td>no_enrollment</td>\n",
       "      <td>Graduate</td>\n",
       "      <td>&lt;1</td>\n",
       "      <td>50-99</td>\n",
       "      <td>Pvt Ltd</td>\n",
       "      <td>never</td>\n",
       "      <td>52</td>\n",
       "      <td>1.0</td>\n",
       "    </tr>\n",
       "    <tr>\n",
       "      <th>4</th>\n",
       "      <td>666</td>\n",
       "      <td>city_162</td>\n",
       "      <td>0.767</td>\n",
       "      <td>Has relevent experience</td>\n",
       "      <td>no_enrollment</td>\n",
       "      <td>Masters</td>\n",
       "      <td>&gt;20</td>\n",
       "      <td>50-99</td>\n",
       "      <td>Funded Startup</td>\n",
       "      <td>4</td>\n",
       "      <td>8</td>\n",
       "      <td>0.0</td>\n",
       "    </tr>\n",
       "    <tr>\n",
       "      <th>...</th>\n",
       "      <td>...</td>\n",
       "      <td>...</td>\n",
       "      <td>...</td>\n",
       "      <td>...</td>\n",
       "      <td>...</td>\n",
       "      <td>...</td>\n",
       "      <td>...</td>\n",
       "      <td>...</td>\n",
       "      <td>...</td>\n",
       "      <td>...</td>\n",
       "      <td>...</td>\n",
       "      <td>...</td>\n",
       "    </tr>\n",
       "    <tr>\n",
       "      <th>19153</th>\n",
       "      <td>7386</td>\n",
       "      <td>city_173</td>\n",
       "      <td>0.878</td>\n",
       "      <td>No relevent experience</td>\n",
       "      <td>no_enrollment</td>\n",
       "      <td>Graduate</td>\n",
       "      <td>14</td>\n",
       "      <td>50-99</td>\n",
       "      <td>Pvt Ltd</td>\n",
       "      <td>1</td>\n",
       "      <td>42</td>\n",
       "      <td>1.0</td>\n",
       "    </tr>\n",
       "    <tr>\n",
       "      <th>19154</th>\n",
       "      <td>31398</td>\n",
       "      <td>city_103</td>\n",
       "      <td>0.920</td>\n",
       "      <td>Has relevent experience</td>\n",
       "      <td>no_enrollment</td>\n",
       "      <td>Graduate</td>\n",
       "      <td>14</td>\n",
       "      <td>50-99</td>\n",
       "      <td>Pvt Ltd</td>\n",
       "      <td>4</td>\n",
       "      <td>52</td>\n",
       "      <td>1.0</td>\n",
       "    </tr>\n",
       "    <tr>\n",
       "      <th>19155</th>\n",
       "      <td>24576</td>\n",
       "      <td>city_103</td>\n",
       "      <td>0.920</td>\n",
       "      <td>Has relevent experience</td>\n",
       "      <td>no_enrollment</td>\n",
       "      <td>Graduate</td>\n",
       "      <td>&gt;20</td>\n",
       "      <td>50-99</td>\n",
       "      <td>Pvt Ltd</td>\n",
       "      <td>4</td>\n",
       "      <td>44</td>\n",
       "      <td>0.0</td>\n",
       "    </tr>\n",
       "    <tr>\n",
       "      <th>19156</th>\n",
       "      <td>5756</td>\n",
       "      <td>city_65</td>\n",
       "      <td>0.802</td>\n",
       "      <td>Has relevent experience</td>\n",
       "      <td>no_enrollment</td>\n",
       "      <td>High School</td>\n",
       "      <td>&lt;1</td>\n",
       "      <td>500-999</td>\n",
       "      <td>Pvt Ltd</td>\n",
       "      <td>2</td>\n",
       "      <td>97</td>\n",
       "      <td>0.0</td>\n",
       "    </tr>\n",
       "    <tr>\n",
       "      <th>19157</th>\n",
       "      <td>23834</td>\n",
       "      <td>city_67</td>\n",
       "      <td>0.855</td>\n",
       "      <td>No relevent experience</td>\n",
       "      <td>no_enrollment</td>\n",
       "      <td>Primary School</td>\n",
       "      <td>2</td>\n",
       "      <td>50-99</td>\n",
       "      <td>Pvt Ltd</td>\n",
       "      <td>1</td>\n",
       "      <td>127</td>\n",
       "      <td>0.0</td>\n",
       "    </tr>\n",
       "  </tbody>\n",
       "</table>\n",
       "<p>19158 rows × 12 columns</p>\n",
       "</div>"
      ],
      "text/plain": [
       "       enrollee_id      city  city_development_index      relevent_experience  \\\n",
       "0             8949  city_103                   0.920  Has relevent experience   \n",
       "1            29725   city_40                   0.776   No relevent experience   \n",
       "2            11561   city_21                   0.624   No relevent experience   \n",
       "3            33241  city_115                   0.789   No relevent experience   \n",
       "4              666  city_162                   0.767  Has relevent experience   \n",
       "...            ...       ...                     ...                      ...   \n",
       "19153         7386  city_173                   0.878   No relevent experience   \n",
       "19154        31398  city_103                   0.920  Has relevent experience   \n",
       "19155        24576  city_103                   0.920  Has relevent experience   \n",
       "19156         5756   city_65                   0.802  Has relevent experience   \n",
       "19157        23834   city_67                   0.855   No relevent experience   \n",
       "\n",
       "      enrolled_university education_level experience company_size  \\\n",
       "0           no_enrollment        Graduate        >20        50-99   \n",
       "1           no_enrollment        Graduate         15        50-99   \n",
       "2        Full time course        Graduate          5        50-99   \n",
       "3           no_enrollment        Graduate         <1        50-99   \n",
       "4           no_enrollment         Masters        >20        50-99   \n",
       "...                   ...             ...        ...          ...   \n",
       "19153       no_enrollment        Graduate         14        50-99   \n",
       "19154       no_enrollment        Graduate         14        50-99   \n",
       "19155       no_enrollment        Graduate        >20        50-99   \n",
       "19156       no_enrollment     High School         <1      500-999   \n",
       "19157       no_enrollment  Primary School          2        50-99   \n",
       "\n",
       "         company_type last_new_job  training_hours  target  \n",
       "0             Pvt Ltd            1              36     1.0  \n",
       "1             Pvt Ltd           >4              47     0.0  \n",
       "2             Pvt Ltd        never              83     0.0  \n",
       "3             Pvt Ltd        never              52     1.0  \n",
       "4      Funded Startup            4               8     0.0  \n",
       "...               ...          ...             ...     ...  \n",
       "19153         Pvt Ltd            1              42     1.0  \n",
       "19154         Pvt Ltd            4              52     1.0  \n",
       "19155         Pvt Ltd            4              44     0.0  \n",
       "19156         Pvt Ltd            2              97     0.0  \n",
       "19157         Pvt Ltd            1             127     0.0  \n",
       "\n",
       "[19158 rows x 12 columns]"
      ]
     },
     "execution_count": 77,
     "metadata": {},
     "output_type": "execute_result"
    }
   ],
   "source": [
    "columns_to_drop = ['gender', 'major_discipline']\n",
    "df=data.drop(columns=columns_to_drop)\n",
    "df\n"
   ]
  },
  {
   "cell_type": "code",
   "execution_count": 78,
   "metadata": {},
   "outputs": [],
   "source": [
    "total_lines = 19158\n",
    "num_lines = 0.4 * total_lines    # 40% of data\n",
    "\n",
    "p = num_lines/total_lines  # fraction of lines to read (40%)"
   ]
  },
  {
   "cell_type": "code",
   "execution_count": 82,
   "metadata": {},
   "outputs": [
    {
     "data": {
      "text/plain": [
       "(7663, 12)"
      ]
     },
     "execution_count": 82,
     "metadata": {},
     "output_type": "execute_result"
    }
   ],
   "source": [
    "import numpy as np\n",
    "\n",
    "# Define the fraction of data to sample\n",
    "fraction_to_sample = 0.4\n",
    "\n",
    "# Calculate the number of rows to sample\n",
    "num_rows_to_sample = int(len(df) * fraction_to_sample)\n",
    "\n",
    "# Use numpy to randomly sample rows\n",
    "sampled_data = df.sample(n=num_rows_to_sample, random_state=40)  # Set random_state for reproducibility\n",
    "\n",
    "# Now 'sampled_data' contains 40% of the rows from 'merged_data'\n",
    "sampled_data.shape"
   ]
  },
  {
   "cell_type": "code",
   "execution_count": 83,
   "metadata": {},
   "outputs": [],
   "source": [
    "df_2 = sampled_data.copy()"
   ]
  },
  {
   "cell_type": "code",
   "execution_count": 88,
   "metadata": {},
   "outputs": [],
   "source": [
    "imputed_columns = df_2.columns"
   ]
  },
  {
   "cell_type": "code",
   "execution_count": 90,
   "metadata": {},
   "outputs": [
    {
     "name": "stdout",
     "output_type": "stream",
     "text": [
      "<class 'pandas.core.frame.DataFrame'>\n",
      "RangeIndex: 7663 entries, 0 to 7662\n",
      "Data columns (total 12 columns):\n",
      " #   Column                  Non-Null Count  Dtype \n",
      "---  ------                  --------------  ----- \n",
      " 0   enrollee_id             7663 non-null   object\n",
      " 1   city                    7663 non-null   object\n",
      " 2   city_development_index  7663 non-null   object\n",
      " 3   relevent_experience     7663 non-null   object\n",
      " 4   enrolled_university     7663 non-null   object\n",
      " 5   education_level         7663 non-null   object\n",
      " 6   experience              7663 non-null   object\n",
      " 7   company_size            7663 non-null   object\n",
      " 8   company_type            7663 non-null   object\n",
      " 9   last_new_job            7663 non-null   object\n",
      " 10  training_hours          7663 non-null   object\n",
      " 11  target                  7663 non-null   object\n",
      "dtypes: object(12)\n",
      "memory usage: 718.5+ KB\n"
     ]
    }
   ],
   "source": [
    "# Handle missing values\n",
    "imputer = SimpleImputer(missing_values=np.nan, strategy='most_frequent')\n",
    "imputer_fit = imputer.fit_transform(df_2)\n",
    "merged_data_si = pd.DataFrame(imputer_fit, columns=imputed_columns); merged_data_si # Missing Non-Categorical Data Imputed Subset using Simple Imputer\n",
    "merged_data_si.info()"
   ]
  },
  {
   "cell_type": "code",
   "execution_count": 91,
   "metadata": {},
   "outputs": [
    {
     "data": {
      "text/plain": [
       "enrollee_id               0\n",
       "city                      0\n",
       "city_development_index    0\n",
       "relevent_experience       0\n",
       "enrolled_university       0\n",
       "education_level           0\n",
       "experience                0\n",
       "company_size              0\n",
       "company_type              0\n",
       "last_new_job              0\n",
       "training_hours            0\n",
       "target                    0\n",
       "dtype: int64"
      ]
     },
     "execution_count": 91,
     "metadata": {},
     "output_type": "execute_result"
    }
   ],
   "source": [
    "merged_data_si.isna().sum()"
   ]
  },
  {
   "cell_type": "code",
   "execution_count": 92,
   "metadata": {},
   "outputs": [],
   "source": [
    "df1=merged_data_si.copy()"
   ]
  },
  {
   "cell_type": "markdown",
   "metadata": {},
   "source": [
    "#### Dividing the data into test and train data"
   ]
  },
  {
   "cell_type": "code",
   "execution_count": 94,
   "metadata": {},
   "outputs": [],
   "source": [
    "X = df1.drop([\"city_development_index\", \"experience\", \"training_hours\", \"target\"], axis=1)\n",
    "y = df1[[\"city_development_index\", \"experience\", \"training_hours\", \"target\"]]"
   ]
  },
  {
   "cell_type": "code",
   "execution_count": 95,
   "metadata": {},
   "outputs": [],
   "source": [
    "# Dividing data into training and validation subsets\n",
    "X_train, X_valid, y_train, y_valid = train_test_split(X, y, train_size=0.8, test_size=0.2,\n",
    "                                                      random_state=0)"
   ]
  },
  {
   "cell_type": "code",
   "execution_count": 96,
   "metadata": {},
   "outputs": [
    {
     "data": {
      "text/plain": [
       "city_development_index    0\n",
       "experience                0\n",
       "training_hours            0\n",
       "target                    0\n",
       "dtype: int64"
      ]
     },
     "execution_count": 96,
     "metadata": {},
     "output_type": "execute_result"
    }
   ],
   "source": [
    "X.isna().sum()\n",
    "y.isna().sum()"
   ]
  },
  {
   "cell_type": "markdown",
   "metadata": {},
   "source": [
    "#### Creating Pipeline\n"
   ]
  },
  {
   "cell_type": "code",
   "execution_count": 97,
   "metadata": {},
   "outputs": [],
   "source": [
    "steps_rr = [\n",
    "    ('scaler', StandardScaler()),            # Step 1: StandardScaler\n",
    "    ('regressor', RandomForestRegressor())  # Step 2: RandomForestRegressor\n",
    "]"
   ]
  },
  {
   "cell_type": "code",
   "execution_count": 98,
   "metadata": {},
   "outputs": [],
   "source": [
    "pipe_rr = Pipeline(steps_rr)"
   ]
  },
  {
   "cell_type": "code",
   "execution_count": 99,
   "metadata": {},
   "outputs": [
    {
     "data": {
      "text/plain": [
       "{'memory': None,\n",
       " 'steps': [('scaler', StandardScaler()),\n",
       "  ('regressor', RandomForestRegressor())],\n",
       " 'verbose': False,\n",
       " 'scaler': StandardScaler(),\n",
       " 'regressor': RandomForestRegressor(),\n",
       " 'scaler__copy': True,\n",
       " 'scaler__with_mean': True,\n",
       " 'scaler__with_std': True,\n",
       " 'regressor__bootstrap': True,\n",
       " 'regressor__ccp_alpha': 0.0,\n",
       " 'regressor__criterion': 'squared_error',\n",
       " 'regressor__max_depth': None,\n",
       " 'regressor__max_features': 'auto',\n",
       " 'regressor__max_leaf_nodes': None,\n",
       " 'regressor__max_samples': None,\n",
       " 'regressor__min_impurity_decrease': 0.0,\n",
       " 'regressor__min_samples_leaf': 1,\n",
       " 'regressor__min_samples_split': 2,\n",
       " 'regressor__min_weight_fraction_leaf': 0.0,\n",
       " 'regressor__n_estimators': 100,\n",
       " 'regressor__n_jobs': None,\n",
       " 'regressor__oob_score': False,\n",
       " 'regressor__random_state': None,\n",
       " 'regressor__verbose': 0,\n",
       " 'regressor__warm_start': False}"
      ]
     },
     "execution_count": 99,
     "metadata": {},
     "output_type": "execute_result"
    }
   ],
   "source": [
    "pipe_rr.get_params()"
   ]
  },
  {
   "cell_type": "code",
   "execution_count": 100,
   "metadata": {},
   "outputs": [],
   "source": [
    "from sklearn.model_selection import GridSearchCV\n",
    "\n",
    "parameters = {\n",
    "    'n_estimators': [100, 200],\n",
    "    'max_depth': [None, 10, 20],\n",
    "    'min_samples_split': [2, 5],\n",
    "    'min_samples_leaf': [1, 2,4]\n",
    "}\n",
    "\n",
    "clf = GridSearchCV(estimator=RandomForestRegressor(random_state=40),\n",
    "                           param_grid=parameters,\n",
    "                           scoring='neg_mean_squared_error',\n",
    "                           cv=5,\n",
    "                           n_jobs=-1,\n",
    "                           verbose=1)\n"
   ]
  },
  {
   "cell_type": "code",
   "execution_count": 102,
   "metadata": {},
   "outputs": [],
   "source": [
    "# 1.12 Misc\n",
    "import time\n",
    "import os\n",
    "import gc\n",
    "import random\n",
    "\n",
    "# 1.13 Used in Randomized parameter search\n",
    "from scipy.stats import uniform"
   ]
  },
  {
   "cell_type": "code",
   "execution_count": 103,
   "metadata": {},
   "outputs": [
    {
     "name": "stdout",
     "output_type": "stream",
     "text": [
      "\n",
      "\n",
      "--Takes time...---\n",
      "\n",
      "Fitting 5 folds for each of 36 candidates, totalling 180 fits\n"
     ]
    },
    {
     "ename": "ValueError",
     "evalue": "could not convert string to float: 'city_21'",
     "output_type": "error",
     "traceback": [
      "\u001b[1;31m---------------------------------------------------------------------------\u001b[0m",
      "\u001b[1;31mValueError\u001b[0m                                Traceback (most recent call last)",
      "\u001b[1;32m~\\AppData\\Local\\Temp\\ipykernel_13876\\2366461311.py\u001b[0m in \u001b[0;36m<module>\u001b[1;34m\u001b[0m\n\u001b[0;32m      2\u001b[0m \u001b[0mprint\u001b[0m\u001b[1;33m(\u001b[0m\u001b[1;34m\"\\n\\n--Takes time...---\\n\"\u001b[0m\u001b[1;33m)\u001b[0m\u001b[1;33m\u001b[0m\u001b[1;33m\u001b[0m\u001b[0m\n\u001b[0;32m      3\u001b[0m \u001b[0mstart\u001b[0m \u001b[1;33m=\u001b[0m \u001b[0mtime\u001b[0m\u001b[1;33m.\u001b[0m\u001b[0mtime\u001b[0m\u001b[1;33m(\u001b[0m\u001b[1;33m)\u001b[0m\u001b[1;33m\u001b[0m\u001b[1;33m\u001b[0m\u001b[0m\n\u001b[1;32m----> 4\u001b[1;33m \u001b[0mclf\u001b[0m\u001b[1;33m.\u001b[0m\u001b[0mfit\u001b[0m\u001b[1;33m(\u001b[0m\u001b[0mX_train\u001b[0m\u001b[1;33m,\u001b[0m \u001b[0my_train\u001b[0m\u001b[1;33m)\u001b[0m\u001b[1;33m\u001b[0m\u001b[1;33m\u001b[0m\u001b[0m\n\u001b[0m\u001b[0;32m      5\u001b[0m \u001b[0mend\u001b[0m \u001b[1;33m=\u001b[0m \u001b[0mtime\u001b[0m\u001b[1;33m.\u001b[0m\u001b[0mtime\u001b[0m\u001b[1;33m(\u001b[0m\u001b[1;33m)\u001b[0m\u001b[1;33m\u001b[0m\u001b[1;33m\u001b[0m\u001b[0m\n\u001b[0;32m      6\u001b[0m \u001b[0mprint\u001b[0m\u001b[1;33m(\u001b[0m\u001b[1;33m)\u001b[0m\u001b[1;33m\u001b[0m\u001b[1;33m\u001b[0m\u001b[0m\n",
      "\u001b[1;32m~\\anaconda3\\lib\\site-packages\\sklearn\\model_selection\\_search.py\u001b[0m in \u001b[0;36mfit\u001b[1;34m(self, X, y, groups, **fit_params)\u001b[0m\n\u001b[0;32m    924\u001b[0m             \u001b[0mrefit_start_time\u001b[0m \u001b[1;33m=\u001b[0m \u001b[0mtime\u001b[0m\u001b[1;33m.\u001b[0m\u001b[0mtime\u001b[0m\u001b[1;33m(\u001b[0m\u001b[1;33m)\u001b[0m\u001b[1;33m\u001b[0m\u001b[1;33m\u001b[0m\u001b[0m\n\u001b[0;32m    925\u001b[0m             \u001b[1;32mif\u001b[0m \u001b[0my\u001b[0m \u001b[1;32mis\u001b[0m \u001b[1;32mnot\u001b[0m \u001b[1;32mNone\u001b[0m\u001b[1;33m:\u001b[0m\u001b[1;33m\u001b[0m\u001b[1;33m\u001b[0m\u001b[0m\n\u001b[1;32m--> 926\u001b[1;33m                 \u001b[0mself\u001b[0m\u001b[1;33m.\u001b[0m\u001b[0mbest_estimator_\u001b[0m\u001b[1;33m.\u001b[0m\u001b[0mfit\u001b[0m\u001b[1;33m(\u001b[0m\u001b[0mX\u001b[0m\u001b[1;33m,\u001b[0m \u001b[0my\u001b[0m\u001b[1;33m,\u001b[0m \u001b[1;33m**\u001b[0m\u001b[0mfit_params\u001b[0m\u001b[1;33m)\u001b[0m\u001b[1;33m\u001b[0m\u001b[1;33m\u001b[0m\u001b[0m\n\u001b[0m\u001b[0;32m    927\u001b[0m             \u001b[1;32melse\u001b[0m\u001b[1;33m:\u001b[0m\u001b[1;33m\u001b[0m\u001b[1;33m\u001b[0m\u001b[0m\n\u001b[0;32m    928\u001b[0m                 \u001b[0mself\u001b[0m\u001b[1;33m.\u001b[0m\u001b[0mbest_estimator_\u001b[0m\u001b[1;33m.\u001b[0m\u001b[0mfit\u001b[0m\u001b[1;33m(\u001b[0m\u001b[0mX\u001b[0m\u001b[1;33m,\u001b[0m \u001b[1;33m**\u001b[0m\u001b[0mfit_params\u001b[0m\u001b[1;33m)\u001b[0m\u001b[1;33m\u001b[0m\u001b[1;33m\u001b[0m\u001b[0m\n",
      "\u001b[1;32m~\\anaconda3\\lib\\site-packages\\sklearn\\ensemble\\_forest.py\u001b[0m in \u001b[0;36mfit\u001b[1;34m(self, X, y, sample_weight)\u001b[0m\n\u001b[0;32m    325\u001b[0m         \u001b[1;32mif\u001b[0m \u001b[0missparse\u001b[0m\u001b[1;33m(\u001b[0m\u001b[0my\u001b[0m\u001b[1;33m)\u001b[0m\u001b[1;33m:\u001b[0m\u001b[1;33m\u001b[0m\u001b[1;33m\u001b[0m\u001b[0m\n\u001b[0;32m    326\u001b[0m             \u001b[1;32mraise\u001b[0m \u001b[0mValueError\u001b[0m\u001b[1;33m(\u001b[0m\u001b[1;34m\"sparse multilabel-indicator for y is not supported.\"\u001b[0m\u001b[1;33m)\u001b[0m\u001b[1;33m\u001b[0m\u001b[1;33m\u001b[0m\u001b[0m\n\u001b[1;32m--> 327\u001b[1;33m         X, y = self._validate_data(\n\u001b[0m\u001b[0;32m    328\u001b[0m             \u001b[0mX\u001b[0m\u001b[1;33m,\u001b[0m \u001b[0my\u001b[0m\u001b[1;33m,\u001b[0m \u001b[0mmulti_output\u001b[0m\u001b[1;33m=\u001b[0m\u001b[1;32mTrue\u001b[0m\u001b[1;33m,\u001b[0m \u001b[0maccept_sparse\u001b[0m\u001b[1;33m=\u001b[0m\u001b[1;34m\"csc\"\u001b[0m\u001b[1;33m,\u001b[0m \u001b[0mdtype\u001b[0m\u001b[1;33m=\u001b[0m\u001b[0mDTYPE\u001b[0m\u001b[1;33m\u001b[0m\u001b[1;33m\u001b[0m\u001b[0m\n\u001b[0;32m    329\u001b[0m         )\n",
      "\u001b[1;32m~\\anaconda3\\lib\\site-packages\\sklearn\\base.py\u001b[0m in \u001b[0;36m_validate_data\u001b[1;34m(self, X, y, reset, validate_separately, **check_params)\u001b[0m\n\u001b[0;32m    579\u001b[0m                 \u001b[0my\u001b[0m \u001b[1;33m=\u001b[0m \u001b[0mcheck_array\u001b[0m\u001b[1;33m(\u001b[0m\u001b[0my\u001b[0m\u001b[1;33m,\u001b[0m \u001b[1;33m**\u001b[0m\u001b[0mcheck_y_params\u001b[0m\u001b[1;33m)\u001b[0m\u001b[1;33m\u001b[0m\u001b[1;33m\u001b[0m\u001b[0m\n\u001b[0;32m    580\u001b[0m             \u001b[1;32melse\u001b[0m\u001b[1;33m:\u001b[0m\u001b[1;33m\u001b[0m\u001b[1;33m\u001b[0m\u001b[0m\n\u001b[1;32m--> 581\u001b[1;33m                 \u001b[0mX\u001b[0m\u001b[1;33m,\u001b[0m \u001b[0my\u001b[0m \u001b[1;33m=\u001b[0m \u001b[0mcheck_X_y\u001b[0m\u001b[1;33m(\u001b[0m\u001b[0mX\u001b[0m\u001b[1;33m,\u001b[0m \u001b[0my\u001b[0m\u001b[1;33m,\u001b[0m \u001b[1;33m**\u001b[0m\u001b[0mcheck_params\u001b[0m\u001b[1;33m)\u001b[0m\u001b[1;33m\u001b[0m\u001b[1;33m\u001b[0m\u001b[0m\n\u001b[0m\u001b[0;32m    582\u001b[0m             \u001b[0mout\u001b[0m \u001b[1;33m=\u001b[0m \u001b[0mX\u001b[0m\u001b[1;33m,\u001b[0m \u001b[0my\u001b[0m\u001b[1;33m\u001b[0m\u001b[1;33m\u001b[0m\u001b[0m\n\u001b[0;32m    583\u001b[0m \u001b[1;33m\u001b[0m\u001b[0m\n",
      "\u001b[1;32m~\\anaconda3\\lib\\site-packages\\sklearn\\utils\\validation.py\u001b[0m in \u001b[0;36mcheck_X_y\u001b[1;34m(X, y, accept_sparse, accept_large_sparse, dtype, order, copy, force_all_finite, ensure_2d, allow_nd, multi_output, ensure_min_samples, ensure_min_features, y_numeric, estimator)\u001b[0m\n\u001b[0;32m    962\u001b[0m         \u001b[1;32mraise\u001b[0m \u001b[0mValueError\u001b[0m\u001b[1;33m(\u001b[0m\u001b[1;34m\"y cannot be None\"\u001b[0m\u001b[1;33m)\u001b[0m\u001b[1;33m\u001b[0m\u001b[1;33m\u001b[0m\u001b[0m\n\u001b[0;32m    963\u001b[0m \u001b[1;33m\u001b[0m\u001b[0m\n\u001b[1;32m--> 964\u001b[1;33m     X = check_array(\n\u001b[0m\u001b[0;32m    965\u001b[0m         \u001b[0mX\u001b[0m\u001b[1;33m,\u001b[0m\u001b[1;33m\u001b[0m\u001b[1;33m\u001b[0m\u001b[0m\n\u001b[0;32m    966\u001b[0m         \u001b[0maccept_sparse\u001b[0m\u001b[1;33m=\u001b[0m\u001b[0maccept_sparse\u001b[0m\u001b[1;33m,\u001b[0m\u001b[1;33m\u001b[0m\u001b[1;33m\u001b[0m\u001b[0m\n",
      "\u001b[1;32m~\\anaconda3\\lib\\site-packages\\sklearn\\utils\\validation.py\u001b[0m in \u001b[0;36mcheck_array\u001b[1;34m(array, accept_sparse, accept_large_sparse, dtype, order, copy, force_all_finite, ensure_2d, allow_nd, ensure_min_samples, ensure_min_features, estimator)\u001b[0m\n\u001b[0;32m    744\u001b[0m                     \u001b[0marray\u001b[0m \u001b[1;33m=\u001b[0m \u001b[0marray\u001b[0m\u001b[1;33m.\u001b[0m\u001b[0mastype\u001b[0m\u001b[1;33m(\u001b[0m\u001b[0mdtype\u001b[0m\u001b[1;33m,\u001b[0m \u001b[0mcasting\u001b[0m\u001b[1;33m=\u001b[0m\u001b[1;34m\"unsafe\"\u001b[0m\u001b[1;33m,\u001b[0m \u001b[0mcopy\u001b[0m\u001b[1;33m=\u001b[0m\u001b[1;32mFalse\u001b[0m\u001b[1;33m)\u001b[0m\u001b[1;33m\u001b[0m\u001b[1;33m\u001b[0m\u001b[0m\n\u001b[0;32m    745\u001b[0m                 \u001b[1;32melse\u001b[0m\u001b[1;33m:\u001b[0m\u001b[1;33m\u001b[0m\u001b[1;33m\u001b[0m\u001b[0m\n\u001b[1;32m--> 746\u001b[1;33m                     \u001b[0marray\u001b[0m \u001b[1;33m=\u001b[0m \u001b[0mnp\u001b[0m\u001b[1;33m.\u001b[0m\u001b[0masarray\u001b[0m\u001b[1;33m(\u001b[0m\u001b[0marray\u001b[0m\u001b[1;33m,\u001b[0m \u001b[0morder\u001b[0m\u001b[1;33m=\u001b[0m\u001b[0morder\u001b[0m\u001b[1;33m,\u001b[0m \u001b[0mdtype\u001b[0m\u001b[1;33m=\u001b[0m\u001b[0mdtype\u001b[0m\u001b[1;33m)\u001b[0m\u001b[1;33m\u001b[0m\u001b[1;33m\u001b[0m\u001b[0m\n\u001b[0m\u001b[0;32m    747\u001b[0m             \u001b[1;32mexcept\u001b[0m \u001b[0mComplexWarning\u001b[0m \u001b[1;32mas\u001b[0m \u001b[0mcomplex_warning\u001b[0m\u001b[1;33m:\u001b[0m\u001b[1;33m\u001b[0m\u001b[1;33m\u001b[0m\u001b[0m\n\u001b[0;32m    748\u001b[0m                 raise ValueError(\n",
      "\u001b[1;32m~\\anaconda3\\lib\\site-packages\\pandas\\core\\generic.py\u001b[0m in \u001b[0;36m__array__\u001b[1;34m(self, dtype)\u001b[0m\n\u001b[0;32m   2068\u001b[0m \u001b[1;33m\u001b[0m\u001b[0m\n\u001b[0;32m   2069\u001b[0m     \u001b[1;32mdef\u001b[0m \u001b[0m__array__\u001b[0m\u001b[1;33m(\u001b[0m\u001b[0mself\u001b[0m\u001b[1;33m,\u001b[0m \u001b[0mdtype\u001b[0m\u001b[1;33m:\u001b[0m \u001b[0mnpt\u001b[0m\u001b[1;33m.\u001b[0m\u001b[0mDTypeLike\u001b[0m \u001b[1;33m|\u001b[0m \u001b[1;32mNone\u001b[0m \u001b[1;33m=\u001b[0m \u001b[1;32mNone\u001b[0m\u001b[1;33m)\u001b[0m \u001b[1;33m->\u001b[0m \u001b[0mnp\u001b[0m\u001b[1;33m.\u001b[0m\u001b[0mndarray\u001b[0m\u001b[1;33m:\u001b[0m\u001b[1;33m\u001b[0m\u001b[1;33m\u001b[0m\u001b[0m\n\u001b[1;32m-> 2070\u001b[1;33m         \u001b[1;32mreturn\u001b[0m \u001b[0mnp\u001b[0m\u001b[1;33m.\u001b[0m\u001b[0masarray\u001b[0m\u001b[1;33m(\u001b[0m\u001b[0mself\u001b[0m\u001b[1;33m.\u001b[0m\u001b[0m_values\u001b[0m\u001b[1;33m,\u001b[0m \u001b[0mdtype\u001b[0m\u001b[1;33m=\u001b[0m\u001b[0mdtype\u001b[0m\u001b[1;33m)\u001b[0m\u001b[1;33m\u001b[0m\u001b[1;33m\u001b[0m\u001b[0m\n\u001b[0m\u001b[0;32m   2071\u001b[0m \u001b[1;33m\u001b[0m\u001b[0m\n\u001b[0;32m   2072\u001b[0m     def __array_wrap__(\n",
      "\u001b[1;31mValueError\u001b[0m: could not convert string to float: 'city_21'"
     ]
    }
   ],
   "source": [
    "# 7.2. Start fitting pipeline to data\n",
    "print(\"\\n\\n--Takes time...---\\n\")\n",
    "start = time.time()\n",
    "clf.fit(X_train, y_train)\n",
    "end = time.time()\n",
    "print()\n",
    "(end - start)/60  "
   ]
  },
  {
   "cell_type": "code",
   "execution_count": null,
   "metadata": {},
   "outputs": [],
   "source": []
  },
  {
   "cell_type": "code",
   "execution_count": null,
   "metadata": {},
   "outputs": [],
   "source": []
  },
  {
   "cell_type": "code",
   "execution_count": null,
   "metadata": {},
   "outputs": [],
   "source": []
  },
  {
   "cell_type": "code",
   "execution_count": null,
   "metadata": {},
   "outputs": [],
   "source": []
  },
  {
   "cell_type": "code",
   "execution_count": null,
   "metadata": {},
   "outputs": [],
   "source": []
  },
  {
   "cell_type": "code",
   "execution_count": null,
   "metadata": {},
   "outputs": [],
   "source": []
  },
  {
   "cell_type": "code",
   "execution_count": 38,
   "metadata": {},
   "outputs": [
    {
     "data": {
      "text/html": [
       "<div>\n",
       "<style scoped>\n",
       "    .dataframe tbody tr th:only-of-type {\n",
       "        vertical-align: middle;\n",
       "    }\n",
       "\n",
       "    .dataframe tbody tr th {\n",
       "        vertical-align: top;\n",
       "    }\n",
       "\n",
       "    .dataframe thead th {\n",
       "        text-align: right;\n",
       "    }\n",
       "</style>\n",
       "<table border=\"1\" class=\"dataframe\">\n",
       "  <thead>\n",
       "    <tr style=\"text-align: right;\">\n",
       "      <th></th>\n",
       "      <th>enrollee_id</th>\n",
       "      <th>city</th>\n",
       "      <th>city_development_index</th>\n",
       "      <th>gender</th>\n",
       "      <th>relevent_experience</th>\n",
       "      <th>enrolled_university</th>\n",
       "      <th>education_level</th>\n",
       "      <th>major_discipline</th>\n",
       "      <th>experience</th>\n",
       "      <th>company_size</th>\n",
       "      <th>company_type</th>\n",
       "      <th>last_new_job</th>\n",
       "      <th>training_hours</th>\n",
       "      <th>target</th>\n",
       "    </tr>\n",
       "  </thead>\n",
       "  <tbody>\n",
       "    <tr>\n",
       "      <th>0</th>\n",
       "      <td>8949</td>\n",
       "      <td>city_103</td>\n",
       "      <td>0.920</td>\n",
       "      <td>Male</td>\n",
       "      <td>Has relevent experience</td>\n",
       "      <td>no_enrollment</td>\n",
       "      <td>Graduate</td>\n",
       "      <td>STEM</td>\n",
       "      <td>&gt;20</td>\n",
       "      <td>50-99</td>\n",
       "      <td>Pvt Ltd</td>\n",
       "      <td>1</td>\n",
       "      <td>36</td>\n",
       "      <td>1.0</td>\n",
       "    </tr>\n",
       "    <tr>\n",
       "      <th>1</th>\n",
       "      <td>29725</td>\n",
       "      <td>city_40</td>\n",
       "      <td>0.776</td>\n",
       "      <td>Male</td>\n",
       "      <td>No relevent experience</td>\n",
       "      <td>no_enrollment</td>\n",
       "      <td>Graduate</td>\n",
       "      <td>STEM</td>\n",
       "      <td>15</td>\n",
       "      <td>50-99</td>\n",
       "      <td>Pvt Ltd</td>\n",
       "      <td>&gt;4</td>\n",
       "      <td>47</td>\n",
       "      <td>0.0</td>\n",
       "    </tr>\n",
       "    <tr>\n",
       "      <th>2</th>\n",
       "      <td>11561</td>\n",
       "      <td>city_21</td>\n",
       "      <td>0.624</td>\n",
       "      <td>Male</td>\n",
       "      <td>No relevent experience</td>\n",
       "      <td>Full time course</td>\n",
       "      <td>Graduate</td>\n",
       "      <td>STEM</td>\n",
       "      <td>5</td>\n",
       "      <td>50-99</td>\n",
       "      <td>Pvt Ltd</td>\n",
       "      <td>never</td>\n",
       "      <td>83</td>\n",
       "      <td>0.0</td>\n",
       "    </tr>\n",
       "    <tr>\n",
       "      <th>3</th>\n",
       "      <td>33241</td>\n",
       "      <td>city_115</td>\n",
       "      <td>0.789</td>\n",
       "      <td>Male</td>\n",
       "      <td>No relevent experience</td>\n",
       "      <td>no_enrollment</td>\n",
       "      <td>Graduate</td>\n",
       "      <td>Business Degree</td>\n",
       "      <td>&lt;1</td>\n",
       "      <td>50-99</td>\n",
       "      <td>Pvt Ltd</td>\n",
       "      <td>never</td>\n",
       "      <td>52</td>\n",
       "      <td>1.0</td>\n",
       "    </tr>\n",
       "    <tr>\n",
       "      <th>4</th>\n",
       "      <td>666</td>\n",
       "      <td>city_162</td>\n",
       "      <td>0.767</td>\n",
       "      <td>Male</td>\n",
       "      <td>Has relevent experience</td>\n",
       "      <td>no_enrollment</td>\n",
       "      <td>Masters</td>\n",
       "      <td>STEM</td>\n",
       "      <td>&gt;20</td>\n",
       "      <td>50-99</td>\n",
       "      <td>Funded Startup</td>\n",
       "      <td>4</td>\n",
       "      <td>8</td>\n",
       "      <td>0.0</td>\n",
       "    </tr>\n",
       "  </tbody>\n",
       "</table>\n",
       "</div>"
      ],
      "text/plain": [
       "   enrollee_id      city  city_development_index gender  \\\n",
       "0         8949  city_103                   0.920   Male   \n",
       "1        29725   city_40                   0.776   Male   \n",
       "2        11561   city_21                   0.624   Male   \n",
       "3        33241  city_115                   0.789   Male   \n",
       "4          666  city_162                   0.767   Male   \n",
       "\n",
       "       relevent_experience enrolled_university education_level  \\\n",
       "0  Has relevent experience       no_enrollment        Graduate   \n",
       "1   No relevent experience       no_enrollment        Graduate   \n",
       "2   No relevent experience    Full time course        Graduate   \n",
       "3   No relevent experience       no_enrollment        Graduate   \n",
       "4  Has relevent experience       no_enrollment         Masters   \n",
       "\n",
       "  major_discipline experience company_size    company_type last_new_job  \\\n",
       "0             STEM        >20        50-99         Pvt Ltd            1   \n",
       "1             STEM         15        50-99         Pvt Ltd           >4   \n",
       "2             STEM          5        50-99         Pvt Ltd        never   \n",
       "3  Business Degree         <1        50-99         Pvt Ltd        never   \n",
       "4             STEM        >20        50-99  Funded Startup            4   \n",
       "\n",
       "   training_hours  target  \n",
       "0              36     1.0  \n",
       "1              47     0.0  \n",
       "2              83     0.0  \n",
       "3              52     1.0  \n",
       "4               8     0.0  "
      ]
     },
     "execution_count": 38,
     "metadata": {},
     "output_type": "execute_result"
    }
   ],
   "source": [
    "data.head()"
   ]
  },
  {
   "cell_type": "code",
   "execution_count": 40,
   "metadata": {},
   "outputs": [],
   "source": [
    "from sklearn.model_selection import train_test_split,GridSearchCV,RandomizedSearchCV,StratifiedKFold\n",
    "from sklearn.pipeline import Pipeline\n",
    "from sklearn.impute import SimpleImputer\n",
    "from sklearn.preprocessing import RobustScaler,PolynomialFeatures,PowerTransformer,OneHotEncoder\n"
   ]
  },
  {
   "cell_type": "code",
   "execution_count": 41,
   "metadata": {},
   "outputs": [],
   "source": [
    "x = df.drop(columns='target')\n",
    "y = df['target']"
   ]
  },
  {
   "cell_type": "code",
   "execution_count": 42,
   "metadata": {},
   "outputs": [],
   "source": [
    "import numpy as np\n",
    "\n",
    "# Define the fraction of data to sample\n",
    "fraction_to_sample = 0.4\n",
    "\n",
    "# Calculate the number of rows to sample\n",
    "num_rows_to_sample = int(len(merged_data_1) * fraction_to_sample)\n",
    "\n",
    "# Use numpy to randomly sample rows\n",
    "sampled_data = merged_data_1.sample(n=num_rows_to_sample, random_state=42)  # Set random_state for reproducibility\n",
    "\n",
    "# Now 'sampled_data' contains 40% of the rows from 'merged_data'\n",
    "sampled_data.shape"
   ]
  },
  {
   "cell_type": "code",
   "execution_count": null,
   "metadata": {},
   "outputs": [],
   "source": []
  },
  {
   "cell_type": "markdown",
   "metadata": {
    "id": "9m_lWM9DakVh",
    "papermill": {
     "duration": 0.046803,
     "end_time": "2021-06-02T17:36:38.150760",
     "exception": false,
     "start_time": "2021-06-02T17:36:38.103957",
     "status": "completed"
    },
    "tags": []
   },
   "source": [
    "## Visualizations"
   ]
  },
  {
   "cell_type": "code",
   "execution_count": 32,
   "metadata": {
    "colab": {
     "base_uri": "https://localhost:8080/",
     "height": 296
    },
    "execution": {
     "iopub.execute_input": "2021-06-02T17:36:38.248046Z",
     "iopub.status.busy": "2021-06-02T17:36:38.247392Z",
     "iopub.status.idle": "2021-06-02T17:36:38.409456Z",
     "shell.execute_reply": "2021-06-02T17:36:38.408885Z",
     "shell.execute_reply.started": "2021-06-02T14:48:11.00347Z"
    },
    "id": "twxBEnBFakVi",
    "outputId": "62f4a1f4-8e33-487d-df80-67310adc2c42",
    "papermill": {
     "duration": 0.211782,
     "end_time": "2021-06-02T17:36:38.409583",
     "exception": false,
     "start_time": "2021-06-02T17:36:38.197801",
     "status": "completed"
    },
    "tags": []
   },
   "outputs": [
    {
     "data": {
      "image/png": "[encoded data removed]",
      "text/plain": [
       "<Figure size 400x400 with 1 Axes>"
      ]
     },
     "metadata": {},
     "output_type": "display_data"
    }
   ],
   "source": [
    "# 14000 people are not looking for a job change and on the other hand approximately 5000 people are willing to change their jobs.\n",
    "#Churn vs. normal \n",
    "sizes = list(data['target'].value_counts().sort_values().values)\n",
    "labels = list(data['target'].value_counts().sort_values().index)\n",
    "\n",
    "explode = [0, 0.1]\n",
    "\n",
    "plt.figure(figsize=(4,4))\n",
    "plt.pie(sizes, labels=labels, explode = explode,\n",
    "        autopct=lambda p:f'{p:.2f}%')\n",
    "plt.title('Looking for New Job Percentage', fontsize=10)\n",
    "plt.tight_layout()\n",
    "plt.show()"
   ]
  },
  {
   "cell_type": "markdown",
   "metadata": {
    "id": "jXkG7rtVakVi",
    "papermill": {
     "duration": 0.047194,
     "end_time": "2021-06-02T17:36:38.504876",
     "exception": false,
     "start_time": "2021-06-02T17:36:38.457682",
     "status": "completed"
    },
    "tags": []
   },
   "source": [
    "Next, let's look at the frequency of each category separated the histogram charts to check if there is any special information to distinguish whether the result of the \"target\" is 0 - Not looking for job change, OR, 1 - Looking for a job change."
   ]
  },
  {
   "cell_type": "code",
   "execution_count": 12,
   "metadata": {
    "colab": {
     "base_uri": "https://localhost:8080/",
     "height": 1000
    },
    "execution": {
     "iopub.execute_input": "2021-06-02T17:36:38.615323Z",
     "iopub.status.busy": "2021-06-02T17:36:38.614248Z",
     "iopub.status.idle": "2021-06-02T17:36:40.701466Z",
     "shell.execute_reply": "2021-06-02T17:36:40.702016Z",
     "shell.execute_reply.started": "2021-06-02T14:48:11.187667Z"
    },
    "id": "nIk3Yg5hakVi",
    "outputId": "83d20196-b852-4ba1-9a0f-504cd3c18e94",
    "papermill": {
     "duration": 2.149259,
     "end_time": "2021-06-02T17:36:40.702154",
     "exception": false,
     "start_time": "2021-06-02T17:36:38.552895",
     "status": "completed"
    },
    "tags": []
   },
   "outputs": [
    {
     "data": {
      "image/png": "[encoded data removed]",
      "text/plain": [
       "<Figure size 1500x1800 with 9 Axes>"
      ]
     },
     "metadata": {},
     "output_type": "display_data"
    }
   ],
   "source": [
    "#Frequency of each category separated by label\n",
    "plt.figure(figsize=[15,18])\n",
    "features = ['gender','relevent_experience','enrolled_university','education_level', 'major_discipline',\n",
    "       'experience','company_size','company_type','last_new_job']\n",
    "n=1\n",
    "for f in features:\n",
    "    plt.subplot(5,2,n)\n",
    "    sns.countplot(x=f, hue='target', alpha=0.7, data=data)\n",
    "    plt.title(\"Countplot of {}  by target\".format(f))\n",
    "    n=n+1\n",
    "plt.tight_layout()\n",
    "plt.show()"
   ]
  },
  {
   "cell_type": "markdown",
   "metadata": {
    "id": "XkjvUcOPakVj",
    "papermill": {
     "duration": 0.050555,
     "end_time": "2021-06-02T17:36:40.803694",
     "exception": false,
     "start_time": "2021-06-02T17:36:40.753139",
     "status": "completed"
    },
    "tags": []
   },
   "source": [
    "From these histogram charts, it can be seen, there is no special correlation between the variables with the target function to distinguish the value of the target. Furthermore, categorical variables cannot determine the correlation factor between these variables and the target function."
   ]
  },
  {
   "cell_type": "code",
   "execution_count": 13,
   "metadata": {
    "colab": {
     "base_uri": "https://localhost:8080/"
    },
    "execution": {
     "iopub.execute_input": "2021-06-02T17:36:40.936180Z",
     "iopub.status.busy": "2021-06-02T17:36:40.935310Z",
     "iopub.status.idle": "2021-06-02T17:36:40.940260Z",
     "shell.execute_reply": "2021-06-02T17:36:40.939751Z",
     "shell.execute_reply.started": "2021-06-02T14:48:13.595529Z"
    },
    "id": "IPG3F2F-akVj",
    "outputId": "aee08272-fce8-4754-ce13-e0efdcb219af",
    "papermill": {
     "duration": 0.081711,
     "end_time": "2021-06-02T17:36:40.940364",
     "exception": false,
     "start_time": "2021-06-02T17:36:40.858653",
     "status": "completed"
    },
    "tags": []
   },
   "outputs": [
    {
     "data": {
      "text/plain": [
       "array(['enrollee_id', 'city_development_index', 'training_hours',\n",
       "       'target'], dtype=object)"
      ]
     },
     "execution_count": 13,
     "metadata": {},
     "output_type": "execute_result"
    }
   ],
   "source": [
    "np.array(data.columns[data.dtypes != object])"
   ]
  },
  {
   "cell_type": "code",
   "execution_count": null,
   "metadata": {
    "id": "kRSH-rwnimEP"
   },
   "outputs": [],
   "source": []
  }
 ],
 "metadata": {
  "colab": {
   "provenance": []
  },
  "kernelspec": {
   "display_name": "Python 3 (ipykernel)",
   "language": "python",
   "name": "python3"
  },
  "language_info": {
   "codemirror_mode": {
    "name": "ipython",
    "version": 3
   },
   "file_extension": ".py",
   "mimetype": "text/x-python",
   "name": "python",
   "nbconvert_exporter": "python",
   "pygments_lexer": "ipython3",
   "version": "3.9.16"
  },
  "papermill": {
   "duration": 871.103442,
   "end_time": "2021-06-02T17:51:01.914944",
   "environment_variables": {},
   "exception": null,
   "input_path": "__notebook__.ipynb",
   "output_path": "__notebook__.ipynb",
   "parameters": {},
   "start_time": "2021-06-02T17:36:30.811502",
   "version": "2.1.0"
  }
 },
 "nbformat": 4,
 "nbformat_minor": 1
}
